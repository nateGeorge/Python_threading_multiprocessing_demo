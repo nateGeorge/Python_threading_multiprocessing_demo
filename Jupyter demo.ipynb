{
 "cells": [
  {
   "cell_type": "code",
   "execution_count": null,
   "metadata": {},
   "outputs": [],
   "source": [
    "# a function that will occupy the CPU core for some time\n",
    "# to get this to work in jupyter notebooks in Windows,\n",
    "# it has to be imported from another file\n",
    "def occupy(x):\n",
    "    count = 1\n",
    "    for i in range(1000):\n",
    "        count *= i\n",
    "    return count\n",
    "\n",
    "from occupy_func import occupy as occ\n",
    "import multiprocessing as mp\n",
    "# get number of CPUs on our machine\n",
    "pool_size = mp.cpu_count()\n",
    "# create multiprocessing \"pool\"\n",
    "pool = mp.Pool(processes=pool_size)\n",
    "# run a function with an iterable on our pool\n",
    "returned_list = pool.map(func=occ, iterable=range(4))"
   ]
  },
  {
   "cell_type": "code",
   "execution_count": null,
   "metadata": {},
   "outputs": [],
   "source": [
    "returned_list"
   ]
  },
  {
   "cell_type": "code",
   "execution_count": null,
   "metadata": {},
   "outputs": [],
   "source": [
    "import threading\n",
    "\n",
    "threads = []\n",
    "for i in range(4):\n",
    "    t = threading.Thread(target=occupy, args=[i])\n",
    "    t.daemon = True\n",
    "    t.start()\n",
    "    threads.append(t)\n",
    "\n",
    "for each in threads:\n",
    "    each.join()"
   ]
  },
  {
   "cell_type": "markdown",
   "metadata": {},
   "source": [
    "Multiprocessing and threading doesn't always work well in interactive interpreters like IPython and Jupyter Notebooks. Certain errors, like `BrokenProcessPool: A process in the process pool was terminated abruptly while the future was running or pending.` will arise."
   ]
  },
  {
   "cell_type": "code",
   "execution_count": null,
   "metadata": {},
   "outputs": [],
   "source": []
  }
 ],
 "metadata": {
  "kernelspec": {
   "display_name": "Python 3",
   "language": "python",
   "name": "python3"
  },
  "language_info": {
   "codemirror_mode": {
    "name": "ipython",
    "version": 3
   },
   "file_extension": ".py",
   "mimetype": "text/x-python",
   "name": "python",
   "nbconvert_exporter": "python",
   "pygments_lexer": "ipython3",
   "version": "3.8.5"
  }
 },
 "nbformat": 4,
 "nbformat_minor": 4
}
